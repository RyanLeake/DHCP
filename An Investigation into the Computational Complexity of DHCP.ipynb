{
 "cells": [
  {
   "cell_type": "markdown",
   "metadata": {},
   "source": [
    "# Directed Hamiltonian Cycle Problem (DHCP)"
   ]
  },
  {
   "cell_type": "markdown",
   "metadata": {},
   "source": [
    "## Notation"
   ]
  },
  {
   "cell_type": "markdown",
   "metadata": {},
   "source": [
    "* Number of nodes is denoted as $n$. \n",
    "* Graph $G=(V,E)$ where;\n",
    "    * $V \\lor v$ is the number of vertices.\n",
    "    * $E \\lor e$ is the number of edges.\n",
    "* Search time is denoted as $t$.\n",
    "* Cost (weight) of a cycle/route is deonated as $c$."
   ]
  },
  {
   "cell_type": "markdown",
   "metadata": {},
   "source": [
    "## Introduction"
   ]
  },
  {
   "cell_type": "markdown",
   "metadata": {},
   "source": [
    "A Hamiltonian Cycle is a path that both starts and ends at the same vertex, such that every node in $G$ appears on the cycle exactly once (Hung et al. 2009), a graph that possesses a cycle of this nature is said to be a Hamiltonian graph. The Hamiltonian Cycle Problem (HCP) is a topic has been of great significance in graph theory, that has been studied for many years by mathematicians and continues to be well-studied (Garbe, Mycroft 2016). The Hamilton cycle decision problem (given graph $G$, determine if it contains a Hamilton cycle) was one of Karp’s 21 NP-complete problems (Han, Zhao 2015), meaning that it is both NP (polynomial verifiable) and it is NP-hard (every problem in NP is polytime reducible to it). Languages in the class are described as “complete” as a solution to any problem can be applied to all other problems within the same class. \n",
    "\n",
    "HCP has also gained recognition due to its similarity to the Traveling Salesman Problem (TSP), an NP-hard problem, in which a travelling salesman wishes to go to travel to each destination exactly once and return taking the shortest total route (Brucato 2013). Another variation of the Hamiltonian cycle problem is a Hamiltonian Path Problem. A Hamiltonian path is a spanning path, every cycle with a spanning cycle has a spanning path, however, the converse is not true (Hsu, Lin 2008: 141).\n",
    "\n",
    "In this report we are working with the Directed Hamiltonian Cycle Problem (DHCP) of which there are a number of versions;\n",
    "\n",
    "* Decision version - Boolean result of; does graph $G$ contain a Hamilton cycle?\n",
    "* Computational version - Find a DHCP instance from graph $G$.\n",
    "* Optimization version - Return the optimal solution from all feasible solutions of $G$.\n",
    "\n",
    "In this case we will evaluate the performance of a variety of methods that solve (or provide the best approximation) for DHCP tested over an extensive range of randomly generated instances with varying number of vertices, edges and structures. These methods are;\n",
    "\n",
    "1. Exhaustive search;\n",
    "2. Greedy search;\n",
    "3. Tabu search (a meta-heuristic approach);\n",
    "\n",
    "Additionally, we will consider special cases that are tractable in polynomial time."
   ]
  },
  {
   "cell_type": "markdown",
   "metadata": {},
   "source": [
    "## Methodology"
   ]
  },
  {
   "cell_type": "markdown",
   "metadata": {},
   "source": [
    "To generate \"random\" DHCP instances, where random refers to a graph that is chosen uniformly at random from a set of all graphs with the supplied number of nodes and edges, the gnm_random_graph method from the NetworkX library was used. The aforementioned method takes arguments to specify the number of $v$ vertices and $e$ edges and returns a random graph. Each edge is assigned a weight which allows us to compare the performance of each method by the ‘search cost’ of the optimal route that it finds, this is only possible due to the inclusion of exhaustive search in this assignment, as it is the only search method that is guaranteed to produce an optimal result (if $n$ is small enough).\n",
    "\n",
    "The ability to generate instances of varying parameter sizes, such as; structure and number of nodes/edges was essential to our testing methodology. To obtain reliable and accurate results testing was done over a broad range of DHCP instances with varying parameter sizes to produce a set of averaged results. We recorded; (1) the time taken for the method to complete; (2) how close optimisation methods get to an optimal solution, based on the cost of the route; and (3) the time taken to decide if a Hamilton cycle exists.\n",
    "Each method will be tested over random instances  with the following parameter sizes;\n",
    "\n",
    "* Graph 1 - $G(5,20)$;\n",
    "* Graph 2 - $G(10,40)$;\n",
    "* Graph 3 - $G(15,60)$;\n",
    "* Graph 4 - $G(20,80)$.\n",
    "\n",
    "Each parameter variation will be tested three times to produce averaged results. These parameters were chosen as it allows us to evaluate the performance over a range of graphs of increasing size, where size is determined by both the number of nodes and vertices in the graph."
   ]
  },
  {
   "cell_type": "markdown",
   "metadata": {},
   "source": [
    "### Generating Random Graph Instances"
   ]
  },
  {
   "cell_type": "markdown",
   "metadata": {},
   "source": [
    "**Import relevant libraries.**"
   ]
  },
  {
   "cell_type": "code",
   "execution_count": 111,
   "metadata": {
    "collapsed": true
   },
   "outputs": [],
   "source": [
    "import numpy as np\n",
    "import random as rnd\n",
    "import networkx as netx\n",
    "import matplotlib.pyplot as plt"
   ]
  },
  {
   "cell_type": "markdown",
   "metadata": {},
   "source": [
    "**Generate a random DHCP instance using NetworkX.**"
   ]
  },
  {
   "cell_type": "code",
   "execution_count": 135,
   "metadata": {},
   "outputs": [
    {
     "data": {
      "image/png": "[encoded data removed]",
      "text/plain": [
       "<matplotlib.figure.Figure at 0x151720cba8>"
      ]
     },
     "metadata": {},
     "output_type": "display_data"
    }
   ],
   "source": [
    "plt.figure(figsize=(3,3))\n",
    "graph = netx.gnm_random_graph(15,60,directed=True)\n",
    "weights = np.random.choice(range(1,10), len(list(graph.edges())), replace=True)\n",
    "for i, (n1, n2) in enumerate(graph.edges()):\n",
    "    graph[n1][n2]['weight'] = weights[i]\n",
    "    \n",
    "graph_pos = netx.spring_layout(graph)\n",
    "netx.draw_networkx_nodes(graph, graph_pos, node_size = 200, node_color='blue')\n",
    "netx.draw_networkx_edges(graph, graph_pos, arrowsize = 5, width = 1, alpha=0.3)\n",
    "netx.draw_networkx_labels(graph, graph_pos, font_size=12, font_color='white', \n",
    "                          alpha=1)\n",
    "plt.show()"
   ]
  },
  {
   "cell_type": "markdown",
   "metadata": {},
   "source": [
    "## Exhaustive Search"
   ]
  },
  {
   "cell_type": "markdown",
   "metadata": {},
   "source": [
    "Exhaustive search is an exact method, meaning it will find the solution given enough resources (Hooker 2005), it is also known as the brute force method, as it finds all possible Hamilton cycles (if any exist) and therefore produces an optimal result. Furthermore, it is the only known algorithm that can, at the cost of efficiency. "
   ]
  },
  {
   "cell_type": "markdown",
   "metadata": {},
   "source": [
    "### Exhaustive Pseudo-code"
   ]
  },
  {
   "cell_type": "markdown",
   "metadata": {},
   "source": [
    "1. **exhaustive** (path, start, edge)\n",
    "2. &nbsp;&nbsp;&nbsp;&nbsp;**for** each element in successor\n",
    "3. &nbsp;&nbsp;&nbsp;&nbsp;&nbsp;&nbsp;&nbsp;&nbsp;**if** successor path length < number of nodes\n",
    "4. &nbsp;&nbsp;&nbsp;&nbsp;&nbsp;&nbsp;&nbsp;&nbsp;&nbsp;&nbsp;&nbsp;&nbsp;**if** element not in path\n",
    "5. &nbsp;&nbsp;&nbsp;&nbsp;&nbsp;&nbsp;&nbsp;&nbsp;&nbsp;&nbsp;&nbsp;&nbsp;&nbsp;&nbsp;&nbsp;&nbsp;append element\n",
    "6. &nbsp;&nbsp;&nbsp;&nbsp;&nbsp;&nbsp;&nbsp;&nbsp;&nbsp;&nbsp;&nbsp;&nbsp;&nbsp;&nbsp;&nbsp;&nbsp;**exhaustive** (succesor path, edges)\n",
    "\n",
    "7. &nbsp;&nbsp;&nbsp;&nbsp;&nbsp;&nbsp;&nbsp;&nbsp;**if** length of succesor path == number of nodes\n",
    "8. &nbsp;&nbsp;&nbsp;&nbsp;&nbsp;&nbsp;&nbsp;&nbsp;&nbsp;&nbsp;&nbsp;&nbsp;**if** successor path [0] == element\n",
    "9. &nbsp;&nbsp;&nbsp;&nbsp;&nbsp;&nbsp;&nbsp;&nbsp;&nbsp;&nbsp;&nbsp;&nbsp;&nbsp;&nbsp;&nbsp;&nbsp;succssor path append successor path [0]\n",
    "10. &nbsp;&nbsp;&nbsp;&nbsp;&nbsp;&nbsp;&nbsp;&nbsp;&nbsp;&nbsp;&nbsp;&nbsp;&nbsp;&nbsp;&nbsp;&nbsp;hamilton paths append succesor path"
   ]
  },
  {
   "cell_type": "markdown",
   "metadata": {},
   "source": [
    "11. **for** each node\n",
    "12. &nbsp;&nbsp;&nbsp;&nbsp;path [] append start\n",
    "13. &nbsp;&nbsp;&nbsp;&nbsp;**exhaustive** (path, start, edges)"
   ]
  },
  {
   "cell_type": "markdown",
   "metadata": {},
   "source": [
    "**Define a method for finding all Hamilton paths (exhaustive).**"
   ]
  },
  {
   "cell_type": "code",
   "execution_count": 136,
   "metadata": {
    "collapsed": true
   },
   "outputs": [],
   "source": [
    "def exhaustive(path, start, edges):\n",
    "    success = [t for (s,t) in edges if s==start]\n",
    "    path_exist = False\n",
    "    for t in success:\n",
    "        success_path = [e for e in path]\n",
    "        if len(success_path) < n_nodes:\n",
    "            if t not in success_path:\n",
    "                success_path.append(t)\n",
    "                exhaustive(success_path, t, edges)\n",
    "        if len(success_path) == n_nodes:\n",
    "            if success_path[0] == t:\n",
    "                if path_exist == False:\n",
    "                    #print ((\"Decision: True | %.6f seconds \") % \n",
    "                    #(time.time() - start_time))\n",
    "                    path_exist = True\n",
    "                success_path.append(success_path[0])\n",
    "                hamilton_paths.append(success_path)\n",
    "                path_search_time.append(time.time() - start_time)"
   ]
  },
  {
   "cell_type": "markdown",
   "metadata": {},
   "source": [
    "**Initialise variables.**"
   ]
  },
  {
   "cell_type": "code",
   "execution_count": 137,
   "metadata": {
    "collapsed": true
   },
   "outputs": [],
   "source": [
    "nodes = list(graph.nodes())\n",
    "edges = [(u,v) for (u,v,d) in graph.edges(data=True)]\n",
    "n_nodes = len(nodes)\n",
    "weights = dict(((u,v),w['weight']) for (u,v,w) in graph.edges(data=True))"
   ]
  },
  {
   "cell_type": "markdown",
   "metadata": {},
   "source": [
    "**Start exhaustive search and print time performance.**"
   ]
  },
  {
   "cell_type": "code",
   "execution_count": 138,
   "metadata": {},
   "outputs": [
    {
     "name": "stdout",
     "output_type": "stream",
     "text": [
      "| 3.08164381980896 seconds |\n"
     ]
    }
   ],
   "source": [
    "import time\n",
    "start_time = time.time()\n",
    "path_search_time = []\n",
    "path_start_time = {}\n",
    "hamilton_paths = []\n",
    "start = nodes[0]\n",
    "path_start_time[start] = time.time()\n",
    "\n",
    "for x in range (n_nodes):\n",
    "    path = []\n",
    "    start = nodes[x]\n",
    "    path.append(start)\n",
    "    exhaustive(path, start, edges)\n",
    "    \n",
    "print(\"| %s seconds |\" % (time.time() - start_time))"
   ]
  },
  {
   "cell_type": "markdown",
   "metadata": {},
   "source": [
    "**Calculate cost and list Hamilton paths.**"
   ]
  },
  {
   "cell_type": "code",
   "execution_count": 139,
   "metadata": {
    "collapsed": true
   },
   "outputs": [],
   "source": [
    "def calc_cost(path):\n",
    "    cost = 0\n",
    "    for x in range(len(path)-1):\n",
    "        cost += weights[path[x], path[x+1]]\n",
    "    return cost\n",
    "n_paths = 0\n",
    "total_search = 0\n",
    "xp = []\n",
    "yp = []\n",
    "list_of_cost = []\n",
    "\n",
    "for path, search_time in zip(hamilton_paths, path_search_time):\n",
    "    n_paths = n_paths + 1\n",
    "    xp.append(n_paths)\n",
    "    #print(\"Hamilton cycle: %s, Cost: %d, \n",
    "    #Search time: %.6f seconds\"%(path, calc_cost(path), search_time))\n",
    "    total_search = total_search + search_time\n",
    "    list_of_cost.append(calc_cost(path))\n",
    "    yp.append(total_search)"
   ]
  },
  {
   "cell_type": "markdown",
   "metadata": {},
   "source": [
    "**Print total number of cycles, the best cost route and visualise the number of hamilton cycles found over time.**"
   ]
  },
  {
   "cell_type": "code",
   "execution_count": 140,
   "metadata": {
    "scrolled": true
   },
   "outputs": [
    {
     "name": "stdout",
     "output_type": "stream",
     "text": [
      "Total number of Hamilton cycles: 300\n",
      "Optimal path weight: 68.0\n"
     ]
    },
    {
     "data": {
      "image/png": "[encoded data removed]",
      "text/plain": [
       "<matplotlib.figure.Figure at 0x151f6a0898>"
      ]
     },
     "metadata": {},
     "output_type": "display_data"
    }
   ],
   "source": [
    "plt.figure(figsize=(4,3))\n",
    "print(\"Total number of Hamilton cycles: %s\" %(n_paths))\n",
    "best_c = min(float(s) for s in list_of_cost)\n",
    "print (\"Optimal path weight: %s\" %(best_c))\n",
    "plt.plot(xp, yp, color = 'blue')\n",
    "plt.xlabel(\"Number of Hamilton cycles\")\n",
    "plt.ylabel(\"Time\")\n",
    "plt.show()"
   ]
  },
  {
   "cell_type": "markdown",
   "metadata": {},
   "source": [
    "### Exhaustive Performance"
   ]
  },
  {
   "cell_type": "markdown",
   "metadata": {},
   "source": [
    "This table presents the averaged results from testing exhaustive search three times on graphs of increasing size.\n",
    "\n",
    "| Graph | $V$ | $E$    | Avg. $t$ (method completion)| Avg. $c$  | Avg. num cycles|\n",
    "| :---: |:-----:| :--------:| :--------:      | :---------:|:-------------: |\n",
    "| 1     | 5     | 20        | 0.001519        | 16         |120             |\n",
    "| 2     | 10     | 40        | 0.096325        | 26.6         |583.3             |\n",
    "| 3     | 15     | 60        | 2.349703        | 61.6         |1108.3             |\n",
    "| 4     | 20     | 80        | 86.848342        | 81.6         |4773.3             |\n",
    "\n"
   ]
  },
  {
   "cell_type": "markdown",
   "metadata": {},
   "source": [
    "**Visualising results.**"
   ]
  },
  {
   "cell_type": "code",
   "execution_count": 141,
   "metadata": {},
   "outputs": [
    {
     "data": {
      "image/png": "[encoded data removed]",
      "text/plain": [
       "<matplotlib.figure.Figure at 0x151c1ef470>"
      ]
     },
     "metadata": {},
     "output_type": "display_data"
    }
   ],
   "source": [
    "plt.figure(figsize=(4,3))\n",
    "y_pos = np.array([1, 2, 3, 4])\n",
    "objects = ['Graph 1', 'Graph 2', 'Graph 3', 'Graph 4']\n",
    "p_1 = np.array([0.001299, 0.074511, 2.626605, 115.303060])\n",
    "p_2 = np.array([0.001695, 0.096325, 1.549154, 93.964269])\n",
    "p_3 = np.array([0.0016608, 0.112928, 2.873351, 51.277697])\n",
    "plt.plot(y_pos, p_1, alpha=1, label='Instance 1', color = 'Blue' )\n",
    "plt.plot(y_pos, p_2, alpha=1, label='Instance 2', color = 'Red')\n",
    "plt.plot(y_pos, p_3, alpha=1, label='Instance 3', color = 'Teal')\n",
    "plt.xticks(y_pos, objects)\n",
    "plt.ylabel('Search time')\n",
    "plt.legend()\n",
    "axes = plt.gca()\n",
    "plt.show()"
   ]
  },
  {
   "cell_type": "markdown",
   "metadata": {},
   "source": [
    "* Method completed in average of $t$ = ~22.32 seconds\n",
    "* Average solution $c$ = 46.45 \n",
    "* **Decided** a Hamilton cycle existed in an average of $t$ = 0.093 seconds\n",
    "\n",
    "As anticipated, $t$ increased factorially as |V| and |E| were increased. Exhaustive search performed efficiently for the first two graphs producing an optimal result, as an exact method always will. However, this method is clearly unsuitable for larger graphs. When |V| and |E| become large exhaustive search becomes prohibited, growing exponentially for NP-hard problems. Exhaustive search has a **time complexity of O(n!)** in the worst case, as the method must visit all the permutations of the vertices (n!) and for each iteration determine if adjacent vertices are viable successors."
   ]
  },
  {
   "cell_type": "markdown",
   "metadata": {
    "collapsed": true
   },
   "source": [
    "## Greedy Search"
   ]
  },
  {
   "cell_type": "markdown",
   "metadata": {},
   "source": [
    "A greedy algorithm always makes the locally-optimal choice, i.e., expanding from the current vertex to the next with the smallest estimated cost until a cycle is found, with the intention of finding a globally-optimal solution. Unlike exhaustive search, this algorithm is non-optimal and may fail to find a cycle even if one exists (Greco 2008 :8)."
   ]
  },
  {
   "cell_type": "markdown",
   "metadata": {},
   "source": [
    "### Greedy Pseudo-code"
   ]
  },
  {
   "cell_type": "markdown",
   "metadata": {},
   "source": [
    "1. **greedy** (path, cost, start)\n",
    "2. &nbsp;&nbsp;&nbsp;&nbsp;**while** length of successor > 0\n",
    "3. &nbsp;&nbsp;&nbsp;&nbsp;&nbsp;&nbsp;&nbsp;&nbsp;calculate cost\n",
    "4. &nbsp;&nbsp;&nbsp;&nbsp;&nbsp;&nbsp;&nbsp;&nbsp;**if** cost + min cost < optimal path cost\n",
    "5. &nbsp;&nbsp;&nbsp;&nbsp;&nbsp;&nbsp;&nbsp;&nbsp;&nbsp;&nbsp;&nbsp;&nbsp;append to successor path\n",
    "6. &nbsp;&nbsp;&nbsp;&nbsp;&nbsp;&nbsp;&nbsp;&nbsp;&nbsp;&nbsp;&nbsp;&nbsp;calculate new cost\n",
    "7. &nbsp;&nbsp;&nbsp;&nbsp;&nbsp;&nbsp;&nbsp;&nbsp;&nbsp;&nbsp;&nbsp;&nbsp;**if** length of path < number of nodes\n",
    "8. &nbsp;&nbsp;&nbsp;&nbsp;&nbsp;&nbsp;&nbsp;&nbsp;&nbsp;&nbsp;&nbsp;&nbsp;&nbsp;&nbsp;&nbsp;&nbsp;**greedy** (path, cost, start)\n",
    "9. &nbsp;&nbsp;&nbsp;&nbsp;&nbsp;&nbsp;&nbsp;&nbsp;&nbsp;&nbsp;&nbsp;&nbsp;**else** length of path < number of nodes\n",
    "10. &nbsp;&nbsp;&nbsp;&nbsp;&nbsp;&nbsp;&nbsp;&nbsp;&nbsp;&nbsp;&nbsp;&nbsp;&nbsp;&nbsp;&nbsp;&nbsp;**if** viable path\n",
    "11. &nbsp;&nbsp;&nbsp;&nbsp;&nbsp;&nbsp;&nbsp;&nbsp;&nbsp;&nbsp;&nbsp;&nbsp;&nbsp;&nbsp;&nbsp;&nbsp;&nbsp;&nbsp;&nbsp;&nbsp;calculate to start cost\n",
    "12. &nbsp;&nbsp;&nbsp;&nbsp;&nbsp;&nbsp;&nbsp;&nbsp;&nbsp;&nbsp;&nbsp;&nbsp;&nbsp;&nbsp;&nbsp;&nbsp;&nbsp;&nbsp;&nbsp;&nbsp;**if** new cost + to start cost < optimal path cost\n",
    "13. &nbsp;&nbsp;&nbsp;&nbsp;&nbsp;&nbsp;&nbsp;&nbsp;&nbsp;&nbsp;&nbsp;&nbsp;&nbsp;&nbsp;&nbsp;&nbsp;&nbsp;&nbsp;&nbsp;&nbsp;&nbsp;&nbsp;&nbsp;&nbsp;append to successor path\n",
    "14. &nbsp;&nbsp;&nbsp;&nbsp;&nbsp;&nbsp;&nbsp;&nbsp;&nbsp;&nbsp;&nbsp;&nbsp;&nbsp;&nbsp;&nbsp;&nbsp;&nbsp;&nbsp;&nbsp;&nbsp;&nbsp;&nbsp;&nbsp;&nbsp;optimal path = successor path\n",
    "15. &nbsp;&nbsp;&nbsp;&nbsp;&nbsp;&nbsp;&nbsp;&nbsp;&nbsp;&nbsp;&nbsp;&nbsp;&nbsp;&nbsp;&nbsp;&nbsp;&nbsp;&nbsp;&nbsp;&nbsp;&nbsp;&nbsp;&nbsp;&nbsp;optimal path cost = new cost + to start cost\n",
    "16. &nbsp;&nbsp;&nbsp;&nbsp;&nbsp;&nbsp;&nbsp;&nbsp;**else** \n",
    "17. &nbsp;&nbsp;&nbsp;&nbsp;&nbsp;&nbsp;&nbsp;&nbsp;&nbsp;&nbsp;&nbsp;&nbsp;successor = []"
   ]
  },
  {
   "cell_type": "markdown",
   "metadata": {},
   "source": [
    "**Initialise variables.**"
   ]
  },
  {
   "cell_type": "code",
   "execution_count": 142,
   "metadata": {
    "collapsed": true
   },
   "outputs": [],
   "source": [
    "nodes = list(graph.nodes())\n",
    "n_nodes = len(nodes)\n",
    "edges = [(u,v) for (u,v,d) in graph.edges(data=True)]\n",
    "weights = dict(((u,v),w['weight']) for (u,v,w) in graph.edges(data=True))\n",
    "\n",
    "optimal_path_cost = 1e+6\n",
    "optimal_path = []\n"
   ]
  },
  {
   "cell_type": "markdown",
   "metadata": {
    "collapsed": true
   },
   "source": [
    "**Greedy search method.**"
   ]
  },
  {
   "cell_type": "code",
   "execution_count": 143,
   "metadata": {
    "collapsed": true
   },
   "outputs": [],
   "source": [
    "def greedy(path, cost, start):\n",
    "    global optimal_path\n",
    "    global optimal_path_cost\n",
    "    success = [t for (s,t) in edges if s==start]\n",
    "    success = [t for t in success if t not in path]\n",
    "    path_exist = False\n",
    "    \n",
    "    while len(success) > 0:\n",
    "        costs = [weights[(start,t)] for t in success]\n",
    "        if cost+min(costs) < optimal_path_cost:\n",
    "            t = success[np.argmin(costs)]\n",
    "            success_path = [e for e in path]\n",
    "            success_path.append(t)\n",
    "            new_cost = cost + min(costs)\n",
    "            success.remove(t)\n",
    "            if len(success_path) < n_nodes:\n",
    "                greedy(success_path, new_cost, t)\n",
    "            else:\n",
    "                if (t, success_path[0]) in edges:\n",
    "                    to_start_cost = weights[(t, success_path[0])]   \n",
    "                    if path_exist == False:\n",
    "                        #print ((\"Decision: True | %.6f seconds \") \n",
    "                        #% (time.time() - start_time))\n",
    "                        path_exist = True\n",
    "                    if new_cost + to_start_cost < optimal_path_cost:\n",
    "                        success_path.append(success_path[0])\n",
    "                        optimal_path = success_path\n",
    "                        print(\"Swap optimal cycle with;\")\n",
    "                        print(optimal_path)\n",
    "                        optimal_path_cost = new_cost + to_start_cost\n",
    "                        print(optimal_path_cost)\n",
    "        else:\n",
    "            success = []                                    "
   ]
  },
  {
   "cell_type": "markdown",
   "metadata": {},
   "source": [
    "**Start Greedy search and print results.**"
   ]
  },
  {
   "cell_type": "code",
   "execution_count": 144,
   "metadata": {},
   "outputs": [
    {
     "name": "stdout",
     "output_type": "stream",
     "text": [
      "Swap optimal cycle with;\n",
      "[4, 5, 9, 13, 7, 0, 10, 8, 1, 3, 12, 14, 2, 11, 6, 4]\n",
      "68\n",
      "| 0.37903285026550293 seconds |\n",
      "Optimal path:\n",
      "[4, 5, 9, 13, 7, 0, 10, 8, 1, 3, 12, 14, 2, 11, 6, 4]\n",
      "Optimal path cost:\n",
      "68\n"
     ]
    }
   ],
   "source": [
    "import time\n",
    "start_time = time.time()\n",
    "start = nodes[4]\n",
    "path = []\n",
    "path.append(start)\n",
    "greedy(path, 0, start)\n",
    "print(\"| %s seconds |\" % (time.time() - start_time))\n",
    "print(\"Optimal path:\")\n",
    "print((optimal_path))\n",
    "print(\"Optimal path cost:\")\n",
    "print(optimal_path_cost)"
   ]
  },
  {
   "cell_type": "markdown",
   "metadata": {},
   "source": [
    "### Greedy Performance"
   ]
  },
  {
   "cell_type": "markdown",
   "metadata": {},
   "source": [
    "This table presents the averaged results from testing greedy search three times on graphs of increasing size.\n",
    "\n",
    "| Graph | $V$ | $E$     | Avg. $t$ (method completion)| Avg. $c$  | \n",
    "| :---: |:-----:| :--------:| :--------:      | :---------:|\n",
    "| 1     | 5     | 20        | 0.003771        | 16         |\n",
    "| 2     | 10     | 40        | 0.017132        | 36         |\n",
    "| 3     | 15     | 60        | 0.413956        | 61.6         |\n",
    "| 4     | 20     | 80        | 8.083940      | 85        |"
   ]
  },
  {
   "cell_type": "markdown",
   "metadata": {},
   "source": [
    "**Visualising performance.**"
   ]
  },
  {
   "cell_type": "code",
   "execution_count": 145,
   "metadata": {},
   "outputs": [
    {
     "data": {
      "image/png": "[encoded data removed]",
      "text/plain": [
       "<matplotlib.figure.Figure at 0x151f7f00b8>"
      ]
     },
     "metadata": {},
     "output_type": "display_data"
    }
   ],
   "source": [
    "plt.figure(figsize=(4,3))\n",
    "y_pos = np.array([1, 2, 3, 4])\n",
    "objects = ['Graph 1', 'Graph 2', 'Graph 3', 'Graph 4']\n",
    "p_1 = np.array([0.004544, 0.015415, 0.385057, 13.440167])\n",
    "p_2 = np.array([0.003168, 0.017132, 0.463617, 8.064424])\n",
    "p_3 = np.array([0.003602, 0.020939, 0.393193, 2.747230])\n",
    "plt.plot(y_pos, p_1, alpha=1, label='Instance 1', color = 'Blue' )\n",
    "plt.plot(y_pos, p_2, alpha=1, label='Instance 2', color = 'Red')\n",
    "plt.plot(y_pos, p_3, alpha=1, label='Instance 3', color = 'Teal')\n",
    "plt.xticks(y_pos, objects)\n",
    "plt.ylabel('Search time')\n",
    "plt.legend()\n",
    "axes = plt.gca()\n",
    "plt.show()"
   ]
  },
  {
   "cell_type": "markdown",
   "metadata": {},
   "source": [
    "* Method completed in average of $t$ = ~2.13 seconds\n",
    "* Average solution $c$ = 49.65\n",
    "* **Decided** a Hamilton cycle existed in an average of $t$ = 0.34 seconds\n",
    "\n",
    "Our results for greedy heuristic show a similar correlation to exhaustive search, in that, $t$ exponentially increases as the graph complexity escalates. However, we can see that greedy search, in most cases, performs considerably faster than exhaustive search. Furthermore, the greedy method often finds a good solution, and sometimes an optimal solution. **Greedy search has a time complexity of $O(2^n)$**."
   ]
  },
  {
   "cell_type": "markdown",
   "metadata": {},
   "source": [
    "## Tabu (Meta-heuristic)"
   ]
  },
  {
   "cell_type": "markdown",
   "metadata": {},
   "source": [
    "Tabu Search is a meta-heuristic search method that directs a local heuristic search procedure used for mathematical optimisation. One of the main components of Tabu Search is its usage of adaptive memory, which forms a more adaptable search behaviour (Glover, Marti 2005). Taking a heuristic-based approximation approach is useful for obtaining close to, but non-optimal results, as finding an optimal solution for DHCP is NP-complete (Gamboa et al. 2004). This method begins by finding an initial solution, after which new solutions are created by swapping the order in which two vertices are visited. Solutions are compared based on the total weight between vertices. A tabu list is used to record solutions to prevent repeatedly cycling through the same set of solutions (Glover, Taillard, Werra 2014). For this project, we used a maximum number of iterations as the stopping criterion."
   ]
  },
  {
   "cell_type": "markdown",
   "metadata": {},
   "source": [
    "### Tabu Pseudo-code"
   ]
  },
  {
   "cell_type": "markdown",
   "metadata": {},
   "source": [
    "1. **tabu** ()\n",
    "2. &nbsp;&nbsp;&nbsp;&nbsp;best path = initial solution()\n",
    "3. &nbsp;&nbsp;&nbsp;&nbsp;best path cost = find_cost(best path)\n",
    "4. &nbsp;&nbsp;&nbsp;&nbsp;current path = best path \n",
    "5. &nbsp;&nbsp;&nbsp;&nbsp;current path cost = best path cost\n",
    "6. &nbsp;&nbsp;&nbsp;&nbsp;**while** itertation < stopping criteria\n",
    "7. &nbsp;&nbsp;&nbsp;&nbsp;&nbsp;&nbsp;&nbsp;&nbsp;swap two vertices of current solution\n",
    "8. &nbsp;&nbsp;&nbsp;&nbsp;&nbsp;&nbsp;&nbsp;&nbsp;path 1 = swap vertices[0] with current path[0]\n",
    "9. &nbsp;&nbsp;&nbsp;&nbsp;&nbsp;&nbsp;&nbsp;&nbsp;path 1 cost = find_cost(path 1)\n",
    "10. &nbsp;&nbsp;&nbsp;&nbsp;&nbsp;&nbsp;&nbsp;&nbsp;path 2 = swap vetices[1] with current path[1]\n",
    "11. &nbsp;&nbsp;&nbsp;&nbsp;&nbsp;&nbsp;&nbsp;&nbsp;path 2 cost = find_cost(path 2)\n",
    "12. &nbsp;&nbsp;&nbsp;&nbsp;&nbsp;&nbsp;&nbsp;&nbsp;**if** path 1 cost <= path 2 cost and path 1 not in tabu list\n",
    "13. &nbsp;&nbsp;&nbsp;&nbsp;&nbsp;&nbsp;&nbsp;&nbsp;&nbsp;&nbsp;&nbsp;&nbsp;current path = path 1\n",
    "14. &nbsp;&nbsp;&nbsp;&nbsp;&nbsp;&nbsp;&nbsp;&nbsp;&nbsp;&nbsp;&nbsp;&nbsp;current path cost = path 1 cost\n",
    "15. &nbsp;&nbsp;&nbsp;&nbsp;&nbsp;&nbsp;&nbsp;&nbsp;&nbsp;&nbsp;&nbsp;&nbsp;add solution to tabu list\n",
    "16. &nbsp;&nbsp;&nbsp;&nbsp;&nbsp;&nbsp;&nbsp;&nbsp;**if** path 1 cost > path 2 cost and path 2 not in tabu list\n",
    "17. &nbsp;&nbsp;&nbsp;&nbsp;&nbsp;&nbsp;&nbsp;&nbsp;&nbsp;&nbsp;&nbsp;&nbsp;current path = path 2\n",
    "18. &nbsp;&nbsp;&nbsp;&nbsp;&nbsp;&nbsp;&nbsp;&nbsp;&nbsp;&nbsp;&nbsp;&nbsp;current path cost = path 2 cost\n",
    "19. &nbsp;&nbsp;&nbsp;&nbsp;&nbsp;&nbsp;&nbsp;&nbsp;&nbsp;&nbsp;&nbsp;&nbsp;add solution to tabu list\n",
    "20. &nbsp;&nbsp;&nbsp;&nbsp;&nbsp;&nbsp;&nbsp;&nbsp;iteration++\n",
    "\n",
    "\n"
   ]
  },
  {
   "cell_type": "markdown",
   "metadata": {},
   "source": [
    "**Initialise variables.**"
   ]
  },
  {
   "cell_type": "code",
   "execution_count": 146,
   "metadata": {
    "collapsed": true
   },
   "outputs": [],
   "source": [
    "nodes = list(graph.nodes())\n",
    "n_nodes = len(nodes)\n",
    "edges = [(u,v) for (u,v,d) in graph.edges(data=True)]\n",
    "weights_list = [(u,v,w['weight']) for (u,v,w) in graph.edges(data=True)]\n",
    "weights_list.sort(key=lambda x:x[2])\n",
    "\n",
    "for u in range(n_nodes):\n",
    "    for v in range(n_nodes):\n",
    "        if (not u==v) and (not (u,v) in edges):\n",
    "            weights_list.append((u,v,10)) \n",
    "weights = {(u,v):w for (u,v,w) in weights_list}\n",
    "n_iter = 10000\n",
    "t = int(np.ceil(np.sqrt(n_nodes)))\n",
    "tabu = []"
   ]
  },
  {
   "cell_type": "markdown",
   "metadata": {},
   "source": [
    "**Find initial solution.**"
   ]
  },
  {
   "cell_type": "code",
   "execution_count": 147,
   "metadata": {
    "collapsed": true
   },
   "outputs": [],
   "source": [
    "def find_init_solution():\n",
    "    path = []\n",
    "    for (u,v,w) in weights_list:\n",
    "        if not u in path:\n",
    "            path.append(u)\n",
    "        if not v in path:\n",
    "            path.append(v)\n",
    "        if len(path) == n_nodes:\n",
    "            path.append(path[0])\n",
    "            break\n",
    "    return path"
   ]
  },
  {
   "cell_type": "markdown",
   "metadata": {},
   "source": [
    "**Define method to calculate path cost.**"
   ]
  },
  {
   "cell_type": "code",
   "execution_count": 148,
   "metadata": {
    "collapsed": true
   },
   "outputs": [],
   "source": [
    "def find_cost(path):\n",
    "    cost = 0\n",
    "    for x in range(len(path) - 1):\n",
    "        cost += weights[path[x], path[x+1]]\n",
    "    return cost"
   ]
  },
  {
   "cell_type": "markdown",
   "metadata": {},
   "source": [
    "**Start tabu search and print results.**"
   ]
  },
  {
   "cell_type": "code",
   "execution_count": 149,
   "metadata": {},
   "outputs": [
    {
     "name": "stdout",
     "output_type": "stream",
     "text": [
      "| 0.3814990520477295 seconds |\n",
      "Best path:\n",
      "[2, 4, 5, 9, 8, 10, 7, 11, 6, 12, 3, 14, 1, 13, 0, 2]\n",
      "Best path cost:\n",
      "105\n"
     ]
    }
   ],
   "source": [
    "import time\n",
    "start_time = time.time()\n",
    "best_path = find_init_solution()\n",
    "best_path_cost = find_cost(best_path)\n",
    "n = 0\n",
    "curr_path = [e for e in best_path]\n",
    "curr_path_cost = best_path_cost\n",
    "\n",
    "while n < n_iter:\n",
    "    pos = np.random.choice(range(1, n_nodes), n_nodes - 1, replace = False)\n",
    "    swap_x_pos = pos[0:2]\n",
    "    swap_y_pos = pos[2:4]\n",
    "    \n",
    "    path_1 = [e for e in curr_path]\n",
    "    path_1[swap_x_pos[0]] = curr_path[swap_y_pos[0]]\n",
    "    path_1[swap_y_pos[0]] = curr_path[swap_x_pos[0]]\n",
    "    path_1_cost = find_cost(path_1)\n",
    "    \n",
    "    path_2 = [e for e in curr_path]\n",
    "    path_2[swap_x_pos[1]] = curr_path[swap_y_pos[1]]\n",
    "    path_2[swap_y_pos[1]] = curr_path[swap_x_pos[1]]\n",
    "    path_2_cost = find_cost(path_2)\n",
    "    \n",
    "    if path_1_cost <= path_2_cost and (not path_1 in tabu):\n",
    "        curr_path = path_1\n",
    "        curr_path_cost = path_1_cost\n",
    "        tabu.append(curr_path)\n",
    "    if path_1_cost > path_2_cost and (not path_2 in tabu):\n",
    "        curr_path = path_2\n",
    "        curr_path_cost = path_2_cost\n",
    "        tabu.append(curr_path) \n",
    "    if len(tabu) > t:\n",
    "        tabu = tabu[1:]\n",
    "    n += 1\n",
    "\n",
    "print(\"| %s seconds |\" % (time.time() - start_time))\n",
    "print(\"Best path:\")\n",
    "print(best_path)\n",
    "print(\"Best path cost:\")\n",
    "print(best_path_cost)"
   ]
  },
  {
   "cell_type": "markdown",
   "metadata": {},
   "source": [
    "### Tabu Performance"
   ]
  },
  {
   "cell_type": "markdown",
   "metadata": {},
   "source": [
    "This table presents the averaged results from testing tabu search three times on graphs of increasing size.\n",
    "\n",
    "| Graph | V | E     | Avg. $t$ (method completion)| Avg. $c$  | \n",
    "| :---: |:-----:| :--------:| :--------:      | :---------:|\n",
    "| 1     | 5     | 20        | 0.348870       | 23         |\n",
    "| 2     | 10     | 40        | 0.378748        | 60.3         |\n",
    "| 3     | 15     | 60        | 0.440465        | 101.6         |\n",
    "| 4     | 20     | 80        | 0.470818      | 132.6        |"
   ]
  },
  {
   "cell_type": "markdown",
   "metadata": {},
   "source": [
    "**Visualising performance.**"
   ]
  },
  {
   "cell_type": "code",
   "execution_count": 150,
   "metadata": {},
   "outputs": [
    {
     "data": {
      "image/png": "[encoded data removed]",
      "text/plain": [
       "<matplotlib.figure.Figure at 0x151fa42f28>"
      ]
     },
     "metadata": {},
     "output_type": "display_data"
    }
   ],
   "source": [
    "plt.figure(figsize=(4,3))\n",
    "y_pos = np.array([1, 2, 3, 4])\n",
    "objects = ['Graph 1', 'Graph 2', 'Graph 3', 'Graph 4']\n",
    "p_1 = np.array([0.324084, 0.378748, 0.440465, 0.470818])\n",
    "p_2 = np.array([0.352508, 0.348470, 0.375718, 0.446208])\n",
    "p_3 = np.array([0.370019, 0.371028, 0.431129, 0.475269])\n",
    "plt.plot(y_pos, p_1, alpha=1, label='Instance 1', color = 'Blue' )\n",
    "plt.plot(y_pos, p_2, alpha=1, label='Instance 2', color = 'Red')\n",
    "plt.plot(y_pos, p_3, alpha=1, label='Instance 3', color = 'Teal')\n",
    "plt.xticks(y_pos, objects)\n",
    "plt.ylabel('Search time')\n",
    "plt.legend()\n",
    "axes = plt.gca()\n",
    "plt.show()"
   ]
  },
  {
   "cell_type": "markdown",
   "metadata": {},
   "source": [
    "* Method completed in average of $t$ = ~0.4 seconds\n",
    "* Average solution $c$ = 79.38\n",
    "\n",
    "Tabu search achieves fast search times across all tested DHCP instances, however at the cost of producing an optimal result. Unlike exhaustive and greedy search, this graph presents a more linear relationship between graph size and $t$ for tabu search, suggesting that this methodology would be more suited to larger, more complex instances of this problem. **Tabu search has a time complexity of $O(n)$**, tabu's run-time is limited by the stopping criterion, it returns the best solution within a given number of iterations."
   ]
  },
  {
   "cell_type": "markdown",
   "metadata": {},
   "source": [
    "## Special Cases"
   ]
  },
  {
   "cell_type": "markdown",
   "metadata": {},
   "source": [
    "There are a number of special cases in which the Hamilton Cycle Problem is tractable in polynomial time, in this section we will discuss some of them;\n",
    "\n",
    "* Dirac’s theorem states that in a graph with $n≥3$ vertices with a minimum degree of at least $deg⁡(v)≥n/2$ must contain a Hamilton cycle (Kühn, Osthus 2011), while this theorem was not initially proved for directed graphs, it was extended by Ghouila-Houri in 1960. They found that for a directed graph the requirements differed, each vertex should have both an in-degree and out-degree of at least $deg⁡(v)≥n/2$. Dirac’s theorem is strengthened by;\n",
    "\n",
    "* Ore’s theorem states that in a graph with $n≥3$ vertices such that every pair $x≠y$ of non-adjacent vertices satisfies $deg(x)+deg⁡(y)≥n$, must contain a Hamilton cycle (Kühn, Osthus 2011) Solvable in $O(n^2)$ time.\n",
    "\n",
    "* Umans and Lenhart proved that it was possible to construct a polynomial-time algorithm to solve the HCP in a quad-quad graph, a non-trivial superclass of solid grid graphs (Umans, Lenhart 2009). They did so by using the technique of cycle merging. First, a 2-factor must be discovered, a spanning subgraph in which all vertices have a degree of 2. After which by repeatedly transforming the 2-factor that reduces the number of components the process finds a Hamilton cycle otherwise it terminates if one does not exist (Umans, Lenhart 2009). Solvable in cubic $O(n^3)$ time\n",
    "\n",
    "* Formin et al. found that many hard problems, including HCP, can be solved in polynomial time on graphs that have a bounded clique-width, however not fixed-parameter tractable (Formin et al. 2009).\n",
    "\n",
    "* Using strong induction, it is possible to prove that every tournament graph contains a Hamilton path (not necessarily a Hamilton cycle) (Devadas, Lehman 2005). Therefore, by proving a graph is a tournament you also prove it contains a Hamilton path, it is possible to do so in quadratic time $O(n^2)$.\n",
    "\n",
    "* By proving that a graph $G(V,E)$ is not connected you also prove there is no Hamilton cycle, it is possible to do with BFS/DFS traversal, in $O(V+E)$."
   ]
  },
  {
   "cell_type": "markdown",
   "metadata": {
    "collapsed": true
   },
   "source": [
    "## Conclusion"
   ]
  },
  {
   "cell_type": "markdown",
   "metadata": {},
   "source": [
    "**Plot averaged results of each methodology**"
   ]
  },
  {
   "cell_type": "code",
   "execution_count": 151,
   "metadata": {},
   "outputs": [
    {
     "data": {
      "image/png": "[encoded data removed]",
      "text/plain": [
       "<matplotlib.figure.Figure at 0x151f6ad5f8>"
      ]
     },
     "metadata": {},
     "output_type": "display_data"
    }
   ],
   "source": [
    "plt.figure(figsize=(4,3))\n",
    "y_pos = np.array([1, 2, 3, 4])\n",
    "objects = ['Graph 1', 'Graph 2', 'Graph 3', 'Graph 4']\n",
    "p_1 = np.array([0.0015189, 0.094588, 2.349703, 86.848342])\n",
    "p_2 = np.array([0.0037713, 0.017828, 0.413956, 8.083940])\n",
    "p_3 = np.array([0.348870, 0.366082, 0.415770, 0.464098])\n",
    "\n",
    "plt.plot(y_pos, p_1, alpha=1, label='Exhaustive', color = 'Blue' )\n",
    "plt.plot(y_pos, p_2, alpha=1, label='Greedy', color = 'Red')\n",
    "plt.plot(y_pos, p_3, alpha=1, label='Tabu', color = 'Teal')\n",
    "\n",
    "plt.xticks(y_pos, objects)\n",
    "plt.ylabel('Search time')\n",
    "plt.legend()\n",
    "axes = plt.gca()\n",
    "axes.set_ylim([0,10])\n",
    "plt.show()"
   ]
  },
  {
   "cell_type": "markdown",
   "metadata": {
    "collapsed": true
   },
   "source": [
    "**Compare optimal path cost results**"
   ]
  },
  {
   "cell_type": "code",
   "execution_count": 152,
   "metadata": {},
   "outputs": [
    {
     "data": {
      "text/plain": [
       "<matplotlib.figure.Figure at 0x151faed240>"
      ]
     },
     "metadata": {},
     "output_type": "display_data"
    },
    {
     "data": {
      "image/png": "[encoded data removed]",
      "text/plain": [
       "<matplotlib.figure.Figure at 0x151f8a23c8>"
      ]
     },
     "metadata": {},
     "output_type": "display_data"
    }
   ],
   "source": [
    "plt.figure(figsize=(4,3))\n",
    "exhaustive = [16,26.6,61.6,81.6]\n",
    "greedy = [16,36,61.6,85]\n",
    "tabu = [23,60.3,101.6,132.6]\n",
    "ind = np.arange(len(exhaustive))\n",
    "width = 0.30 \n",
    "fig, ax = plt.subplots()\n",
    "rects1 = ax.bar(ind - 0.3, exhaustive, width,\n",
    "                color='Blue', label='Exhaustive')\n",
    "rects2 = ax.bar(ind, greedy, width, \n",
    "                color='Red', label='Greedy')\n",
    "rects3 = ax.bar(ind + 0.3, tabu, width,\n",
    "                color='teal', label='Tabu')\n",
    "ax.set_ylabel('Optimal path cost')\n",
    "ax.set_xticks(ind)\n",
    "ax.set_xticklabels(('Graph 1', 'Graph 2', 'Graph 3', 'Graph 4'))\n",
    "ax.legend()\n",
    "plt.show()"
   ]
  },
  {
   "cell_type": "markdown",
   "metadata": {},
   "source": [
    "Our results show that if you require an optimal result; exhaustive search is the only algorithm that can guarantee that, however, exhaustive has a time complexity of $O(n!)$ and due to finite computational power, for graphs with a high number of vertices this method becomes inappropriate. Consequently, exhaustive search is only suitable when working with smaller graphs. \n",
    "\n",
    "An alternative approach is greedy heuristic; our results show that greedy, in most cases, performs faster than exhaustive search. While greedy is not an exact method, it often produces close-to-optimal results and sometimes even optimal results. However, greedy search suffers from the same issue as exhaustive search, in that, $t$ increases exponentially as the graph complexity rises. Therefore, greedy search can only be recommended when the number of vertices $v$ is low. \n",
    "\n",
    "Tabu was initially out-performed by both exhaustive and greedy search regarding both $c$ and $t$. However, as $|V|$ and $|E|$ were increased, tabu had a far lower search time. It is important to consider that results tabu produced were considerably further from optimal in comparison to exhaustive and greedy search. The significant advantage of tabu search is that it can still produce results for extensive graphs, long after exhaustive and greedy become unviable. Our results show a more linear relationship between graph size and search time for tabu, which is in stark contrast to the alternate methods evaluated in this paper. It is for these reasons that tabu search would be suitable when working with a large graph.\n",
    "\n",
    "\n",
    "**In summary;**\n",
    "\n",
    "* First check if problem is a special case, as it may be possible to solve in polynomial time, otherwise;\n",
    "* Exhaustive and greedy search are suitable when $n$ is small, the choice between the two is dependant on the importance given to producing an optimal result versus maximising efficiency, otherwise;\n",
    "* If $n$ is large, use Tabu search or an alternate metaheuristic approach for approximate solutions."
   ]
  },
  {
   "cell_type": "markdown",
   "metadata": {},
   "source": [
    "## References"
   ]
  },
  {
   "cell_type": "markdown",
   "metadata": {},
   "source": [
    "* Brucato, C. (2013) ‘**The Traveling Salesman Problem**’ Department of Mathematics, University of Pittsburgh [online] available from <https://www.mathematics.pitt.edu/sites/default/files/TSP.pdf> [4 April 2018]\n",
    "* Devadas, S. Lehman, E. (2005) ‘**Graph Theory**’ Mathematics for Computer Science [online] available from <https://dspace.mit.edu/bitstream/handle/1721.1/104427/6-042j-spring-2005/contents/lecture-notes/l8_graphs1.pdf> [22 April 2018]\n",
    "* Formin, F. Golovach, P. Lokshtanov, D. (2009) ‘**Clique-width: On the Price of Generality**’ Department of Informatics, University of Bergen, N-5020 Bergen, Norway [online] available from <http://www.ii.uib.no/~fomin/fedor/articles> [22 April 2018]\n",
    "* Gamboa, D. Rego, C. Glover, F. (2004) ‘**Data structures and ejection chains for solving large-scale traveling salesman problems**’ European Journal of Operational Research 160 (2005) 154–171 [online] available from <https://www.sciencedirect.com/science/article/pii/S0377221704002905> [21 April 2018]\n",
    "* Garbe, F. Mycroft, R. (2016) ‘**The Complexity of the Hamilton Cycle Problem in Hypergraphs of High Minimum Codegree**’ School of Mathematics, University of Birmingham, Birmingham [online] available from <http://web.mat.bham.ac.uk/R.Mycroft/2016STACS.pdf> [4 April 2018]\n",
    "* Glover, F. Marti, R. (2005) ‘**TABU SEARCH**’ Leeds School of Business, University of Colorado, Campus Box 419, Boulder, CO 80309; Dpto. de Estadística e Investigación Operativa, Universidad de Valencia [online] available from <https://www.uv.es/rmarti/paper/docs/ts2.pdf> [21 April 2018]\n",
    "* Glover, F. Taillard, E. Werra, D. (2014) ‘**A user’s guide to tabu search**’ Graduate School of Business, University of Colorado, Boulder; Department of Mathematics, Swiss Federal Institute of Technology [online] available from <http://leeds-faculty.colorado.edu/glover/227%20-%20A%20Users%20Guide%20to%20Tabu%20Search%20-%20conversion%203%2026%2014.pdf> [21 April 2018]\n",
    "* Greco, F. (2008) ‘**Travelling Salesman Problem**’ In-teh [online] available from <http://www.exatas.ufpr.br/portal/docs_degraf/paulo/TravellingSalesmanProblem.pdf> [23 April 2018]\n",
    "* Han, J. Zhao, Y. (2015) ‘**Minimum codegree threshold for Hamilton l-cycles in k-uniform hypergraphs**’ Journal of Combinatorial Theory, Series A, 132(0):194–223 [4 April 2018]\n",
    "* Hooker, J. (2005) ‘**Unifying Local and Exhaustive Search**’ Carnegie Mellon University [online] available from <http://public.tepper.cmu.edu/jnh/localsearch.pdf> [23 April 2018]\n",
    "* Hsu, L., Lin, C. (2008) **'Graph Theory and Interconnection Networks'**. Boca Raton: CRC Press. [5 April 2018]\n",
    "* Hung, R. Chang, M. Laio, C. (2009) ‘**The Hamiltonian Cycle Problem on Circular-Arc Graphs**’ Proceedings of the International MultiConference of Engineers and Computer Scientists 2009 Vol I IMECS 2009, March 18 - 20, 2009, Hong Kong [online] available from <https://pdfs.semanticscholar.org/aeb0/d61f64c1e36828b766c110c4231972361b30.pdf> [4 April 2018]\n",
    "* Kühn, D. Osthus, D. (2011) ‘**A survey on Hamilton cycles in directed graphs**’ School of Mathematics, Birmingham University [online] available from <https://arxiv.org/abs/1006.0590> [22 April 2018]\n",
    "* NetworkX (2018) **Software for complex networks** [online] available from <https://networkx.github.io/> [17 April 2018]\n",
    "* Umans, C. Lenhart, W. (2009) ‘**Hamiltonian Cycles in Solid Grid Graphs**’ Computer Science Division U.C. Berkeley [online] available from <http://citeseerx.ist.psu.edu/viewdoc/download?doi=10.1.1.47.2950&rep=rep1&type=pdf> [22 April 2018]"
   ]
  }
 ],
 "metadata": {
  "kernelspec": {
   "display_name": "Python 3",
   "language": "python",
   "name": "python3"
  },
  "language_info": {
   "codemirror_mode": {
    "name": "ipython",
    "version": 3
   },
   "file_extension": ".py",
   "mimetype": "text/x-python",
   "name": "python",
   "nbconvert_exporter": "python",
   "pygments_lexer": "ipython3",
   "version": "3.6.3"
  }
 },
 "nbformat": 4,
 "nbformat_minor": 2
}
